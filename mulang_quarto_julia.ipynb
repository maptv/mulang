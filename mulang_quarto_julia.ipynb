{
  "cells": [
    {
      "cell_type": "markdown",
      "metadata": {},
      "source": [
        "# mulang\n",
        "\n",
        "## 1 Quarto\n",
        "\n",
        "Quarto enables you to weave together content and executable code into a\n",
        "finished document. To learn more about Quarto see <https://quarto.org>.\n",
        "\n",
        "## 2 Running Code\n",
        "\n",
        "Quarto files using the jupyter engine cannot mix languages. 1. Create\n",
        "one Quarto file for each language and one `main.qmd`: - `main.qmd` -\n",
        "does not have any code chunks, only prose and embed shortcodes - has the\n",
        "engine option set to knitr in its YAML header - the other Quarto files -\n",
        "do not have any prose, only code - have the YAML header engine option\n",
        "set to jupyter and the relevant language 2. Create Jupyter notebooks\n",
        "from the Quarto files 3. Keep them all in sync with one of the following\n",
        "options a. Convert the Quarto files into Jupyter notebooks and work in\n",
        "the notebooks b. Output the Quarto files to Jupyter notebooks 3. Embed\n",
        "cells from the Jupyter notebooks in `main.qmd` 4. Generate all output\n",
        "files from `main.qmd`\n",
        "\n",
        "1.  Set the engine option to knitr in the main Quarto file YAML header\n",
        "2.  Use Python, R, and bash code in their respective chunks\n",
        "3.  Eventually move code into scripts and Jupyter notebooks to keep the\n",
        "    quarto file small\n",
        "\n",
        "<!-- -->\n",
        "\n",
        "1.  Julia code must be in Jupyter notebooks\n",
        "2.  Embed cells from the Jupyter notebooks in the Quarto file\n",
        "3.  Bring in scripts with the file chunk option Keep Python, R, and\n",
        "    Julia code in separate scripts\n",
        "\n",
        "<!-- -->\n",
        "\n",
        "1.  Keep Python, R, and Julia code in separate scripts\n",
        "2.  Use Quarto notebooks that are sync’ed to Jupyter Notebooks with the\n",
        "    correct kernel setting.\n",
        "3.  Embed cells from those notebooks in a combined Quarto notebook Use\n",
        "    Jupyter for\n",
        "\n",
        "``` {r}\n",
        "#| tags: [pairs]\n",
        "ma <- as.matrix(iris[, 1:4])\n",
        "pairs(ma, col = rainbow(3)[iris$Species])\n",
        "```\n",
        "\n",
        "Another test\n",
        "\n",
        "``` {r}\n",
        "#| tags: [ggpairs]\n",
        "# install.packages(\"GGally\")\n",
        "library(GGally)\n",
        "\n",
        "ggpairs(iris,                 # Data frame\n",
        "        columns = 1:4,        # Columns\n",
        "        aes(color = Species,  # Color by group (cat. variable)\n",
        "            alpha = 0.5))     # Transparency \n",
        "```\n",
        "\n",
        "Will this be deleted?\n",
        "\n",
        "``` {python}\n",
        "#| tags: [pairplot]\n",
        "import seaborn as sns\n",
        "import matplotlib.pyplot as plt\n",
        "iris = sns.load_dataset(\"iris\")\n",
        "sns.pairplot(iris, hue=\"species\")\n",
        "```\n",
        "\n",
        "Test"
      ],
      "id": "557596ae-2b81-4059-b308-926fdcb6ac6f"
    },
    {
      "cell_type": "code",
      "execution_count": 2,
      "metadata": {
        "tags": [
          "corrplot"
        ]
      },
      "outputs": [],
      "source": [
        "using StatsPlots, RDatasets\n",
        "iris = RDatasets.dataset(\"datasets\", \"iris\")\n",
        "@df iris corrplot(cols(1:4), grid = false)"
      ],
      "id": "6869a874"
    }
  ],
  "nbformat": 4,
  "nbformat_minor": 5,
  "metadata": {
    "kernelspec": {
      "name": "julia-1.9",
      "display_name": "Julia 1.9.1",
      "language": "julia"
    },
    "language_info": {
      "name": "julia",
      "file_extension": ".jl",
      "mimetype": "application/julia",
      "version": "1.9.1"
    }
  }
}